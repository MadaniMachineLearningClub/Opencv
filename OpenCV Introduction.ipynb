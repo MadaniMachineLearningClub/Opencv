{
 "cells": [
  {
   "cell_type": "markdown",
   "metadata": {},
   "source": [
    "# Introduction to OpenCV\n",
    "Email : <a href='mailto:madani.a@ucd.ac.ma'>madani.a@ucd.ac.ma</a>\n",
    "<img src='images/opencv.png'>"
   ]
  },
  {
   "cell_type": "markdown",
   "metadata": {},
   "source": [
    "## Introduction\n",
    "<p>\n",
    "    OpenCV (Open Source Computer Vision) est une bibliothèque proposant un ensemble de plus de 2500 algorithmes de vision par ordinateur, accessibles au travers d'API pour les langages C, C++, et Python. Elle est distribuée sous une licence BSD (libre) pour les plate-formes Windows, GNU/Linux, Android et MacOS.\n",
    "</p><p>\n",
    "Initialement écrite en C en 2000 par des chercheurs de la société Intel, OpenCV est aujourd'hui développée, maintenue, documentée et utilisée par une communauté de plus de 40 000 membres actifs. C'est la bibliothèque de référence pour la vision par ordinateur, aussi bien dans le monde de la recherche que celui de l'industrie.\n",
    "<p><p>\n",
    "Afin de mieux présenter son étendue et ce qu'elle permet de faire, jetons un œil aux principaux modules accessibles au travers de son API C.\n",
    "</p>\n",
    "<ul>\n",
    "    <li> <b>core : les fonctionnalités de base.</b> Cette bibliothèque permet de manipuler les structures de base, réaliser des opérations sur des matrices, dessiner sur des images, sauvegarder et charger des données dans des fichiers XML…\n",
    "\n",
    "<li><b>imgproc : traitement d'image.</b> Les fonctions et structures de ce module ont trait aux transformations d'images, au filtrage, à la détection de contours, de points d'intérêt…\n",
    "\n",
    "<li><b>features2d : descripteurs.</b> Ce module concerne principalement l'extraction de descripteurs selon deux approches courantes (SURF et StarDetector).\n",
    "\n",
    "<li><b>objdetect : détection d'objets.</b> Cette bibliothèque permet de faire de la reconnaissance d'objets dans une image au moyen de l'algorithme Adaboost (Viola & Jones, 2001). \n",
    "\n",
    "<li><b>video : traitement de flux vidéo.</b> Ces fonctions servent à segmenter et suivre les objets en mouvement dans une vidéo.\n",
    "\n",
    "<li><b>highgui : entrées-sorties et interface utilisateur.</b> OpenCV intègre sa propre bibliothèque haut-niveau pour ouvrir, enregistrer et afficher des images et des flux vidéo. Celle-ci contient aussi un certain nombre de fonctions permettant de réaliser des interfaces graphiques très simples, mais largement suffisantes pour tester les programmes.\n",
    "\n",
    "<li><b>calib3d : calibration, estimation de pose et stéréovision.</b> Ce module contient des fonctions permettant de reconstruire une scène en 3D à partir d'images acquises avec plusieurs caméras simultanément.\n",
    "</ul>\n"
   ]
  },
  {
   "cell_type": "markdown",
   "metadata": {},
   "source": [
    "## Computer Vision "
   ]
  },
  {
   "cell_type": "markdown",
   "metadata": {},
   "source": [
    "<p>\n",
    "    Avant de passer en revue des principales fonctionnalités de OpenCV, nous allons commencer par une brève introduction sur ce qu'est la <b>vision par Ordinateur</b> (<b>computer vision</b> en anglais).\n",
    "</p>\n",
    "<p>\n",
    "Computer Vision est une branche de l'intelligence artificielle dont le principal but est de permettre à une machine d'<i>analyser</i>, <i>traiter</i> et <i>comprendre</i> une ou plusieurs images prises par un système d'acquisition (par exemple: caméras, etc.)\n",
    "</p>\n",
    "<p>\n",
    "Le but de Computer Vision est donc de comprendre ce que contient une image. Pour nous, humains, cela est assez simple et nous le faisons depuis que nous sommes enfants, mais pour les ordinateurs cela peut être une tâche assez complexe.\n",
    "</p>\n",
    "<p>\n",
    "Mais si c'est si complexe, pourquoi s'embeter à le faire ?\n",
    "</p>\n",
    "<p>\n",
    "La raison est que les images et les vidéos sont partout aujourd'hui. La technologie des capteurs a tellement évoluée qu'aujourd'hui ils sont très abordables et qu'ils fournissent une qualité d'images totalement exploitable. Grâce à cela, les données vidéos sont très accessibles et permettent de concevoir des systèmes très pointus.\n",
    "</p>\n",
    "<p>\n",
    "Prenons tout de suite un exemple. Vous vous êtes déja demandé comment Facebook positionnait ses cadres autour des visages pour que vous puissiez identifier vos amis ? Grâce au traitement de l'image ! Ils ont concu un algorithme capable de reconnaitre les visages dans une photo.\n",
    "</p>\n",
    "<p>\n",
    "\n",
    "Vous l'aurez compris, le traitement de l'image est un outil extrêmement puissant  et qui sera beaucoup utilisé à l'avenir dans tous les domaines.\n",
    "</p>"
   ]
  },
  {
   "cell_type": "markdown",
   "metadata": {},
   "source": [
    "## C'est quoi une image ?"
   ]
  },
  {
   "cell_type": "markdown",
   "metadata": {},
   "source": [
    "<p>\n",
    "Chaque image est constituée d'une multitude de pixels. Si l'on considère notre image comme une grille, chaque pixel est une case de cette grille. Prenons par exemple une image de taille 1200 x 1600. Cette image a une hauteur de 1200 et une largeur de 1600. Ces valeurs sont des nombres de pixels. Cela veut dire que l'image fait 1600 pixels de large, et 1200 pixels de haut. Donc l'image contient 1600x1200 = 1 920 000 pixels.\n",
    "</p>\n",
    "<p>\n",
    "Mais au fait c'est quoi un pixel ?\n",
    "</p>\n",
    "<p>\n",
    "Et bien en fait ca dépend (de la technologie et du type d'image a afficher) ! Prenons par exemple un écran à LEDs, dans ces écrans chaque pixel est composé de 3 LEDs (une rouge, une bleu, et une verte) permettant ainsi de récréer d'autres couleurs par synthèse additive. L'intensité lumineuse de chaque LED peut prendre 256 valeurs (ou 0 est éteint et ou 255 est la valeur maximum).\n",
    "</p>\n",
    "<p>\n",
    "Dans le cas d'une image en noir et blanc, les 3 LEDS ont la même intensité. Lorsque leur intensité vaut 0, le pixel est noir, et lorsque leur intensité est de 255, le pixel est blanc. Toutes les valeurs intermédiaires sont des nuances de gris. Du coup dans le cas d'image noir et blanc il n'y a qu'une valeur a stocker par pixel (l'intensité des 3 LEDs).\n",
    "</p>\n",
    "<p>\n",
    "Dans le cas d'une image en couleur, les 3 LEDs n'ont pas la même intensité. Les différentes couleurs sont crées en combinant les 3 couleurs primaires à des intensités différentes. Il y a donc trois valeurs à stocker par pixel (l'intensité de chaque LED).\n",
    "</p>\n",
    "<p>\n",
    "Cette différence va changer la façon dont sont représentés les images. Habituellement on associe les images à des matrices. Dans le cas d'images noir et blanc, la matrice image sera une matrice de dimension 2  (X lignes et Y colonnes). Pour les images en couleur, on les représentera sous la forme de matrices de dimension 3 (X lignes, Y colonnes et 3 de profondeur).\n",
    "</p>\n",
    "<p>\n",
    "    <img src=\"BGR.png\">\n",
    "</p>\n",
    "<p>\n",
    "Dans une case de matrice on ne peut stocker qu'une valeur, donc dans le cas d'image en noir et blanc, on peut se satisfaire d'une matrice de dimension 2, car chaque case contient l'intensité de 3 LEDs. Cependant pour les images couleurs on est obligé d'utiliser des matrices de dimension 3, car il faut stocker l'intensité de chaque LED (d'ou la profondeur de 3).\n",
    "</p>\n",
    "<p>\n",
    "Mais au fait c'est quelle couleur en premier ?\n",
    "</p>\n",
    "<p>\n",
    "Effectivement on doit stocker la valeur de l'intensité de chaque LED, mais on ne peut pas les stocker n'importe comment !\n",
    "</p>\n",
    "<p>\n",
    "En fait cela dépend de l'espace choisi. Dans l'espace RGB on stocke les couleurs ainsi (rouge, vert, bleu), alors que dans l'espace BGR on les notes différement (bleu, vert rouge).\n",
    "</p>\n",
    "<p>    \n",
    "Imaginons que nous voulons afficher le pixel [0,0] en rouge et que nous sommes en espace RGB, nous devons le représenter sous forme de (255,0,0), par contre en espace BGR, la représentation sera sous la forme de (0, 0, 255).\n",
    "</p>\n",
    "<p>\n",
    "Dans le cas de Opencv, les images sontstockées en BGR alors que Numpy lui utilise l'espace RGB.\n",
    "</p>"
   ]
  }
 ],
 "metadata": {
  "kernelspec": {
   "display_name": "Python 3",
   "language": "python",
   "name": "python3"
  },
  "language_info": {
   "codemirror_mode": {
    "name": "ipython",
    "version": 3
   },
   "file_extension": ".py",
   "mimetype": "text/x-python",
   "name": "python",
   "nbconvert_exporter": "python",
   "pygments_lexer": "ipython3",
   "version": "3.8.3"
  }
 },
 "nbformat": 4,
 "nbformat_minor": 2
}
